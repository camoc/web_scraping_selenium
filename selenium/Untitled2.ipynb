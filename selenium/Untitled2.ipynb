{
 "cells": [
  {
   "cell_type": "code",
   "execution_count": null,
   "metadata": {},
   "outputs": [],
   "source": [
    "from selenium import webdriver\n",
    "from selenium.webdriver.common.keys import Keys\n",
    "from selenium.webdriver.chrome.options import Options\n",
    "from selenium.webdriver.support.ui import WebDriverWait\n",
    "from selenium.webdriver.support import expected_conditions as EC\n",
    "from selenium.webdriver.common.by import By\n",
    "import time"
   ]
  },
  {
   "cell_type": "code",
   "execution_count": null,
   "metadata": {},
   "outputs": [],
   "source": [
    "chromeOptions = Options()\n",
    "chromeOptions.add_argument(\"--kiosk\")"
   ]
  },
  {
   "cell_type": "code",
   "execution_count": null,
   "metadata": {},
   "outputs": [],
   "source": [
    "#driver = webdriver.chrome(options=chromeOptions)\n",
    "service = Service(chrome_driver_path)\n",
    "service.start()\n",
    "driver = webdriver.Remote(service.service_url)\n",
    "driver.get(\"https://www.pluralsight.com/buy?requestId=e293ab17-ed6d-4758-ad51-579699643698&priceOptionId=761930fa-2cb0-454b-8ad7-f3c8155678cf&legacyTrackingId=IND-M-PLUS-FT&time=1577105485826&planId=Individual+plan&quantity=1&analyticsStep=1\")\n",
    "\n",
    "# web driver wait\n",
    "element = WebDriverWait(driver, 10).until(EC.element_to_be_clickable((By.NAME,\"firstName\")))\n",
    "\n",
    "# first name \n",
    "first_name = driver.find_element_by_name(\"firstName\")\n",
    "first_name.clear()\n",
    "first_name.send_keys(\"Moctar\")\n",
    "\n",
    "\n",
    "# last name \n",
    "last_name = driver.find_element_by_name(\"lastName\")\n",
    "last_name.clear()\n",
    "last_name.send_keys(\"Camara\")"
   ]
  }
 ],
 "metadata": {
  "kernelspec": {
   "display_name": "Python 3",
   "language": "python",
   "name": "python3"
  },
  "language_info": {
   "codemirror_mode": {
    "name": "ipython",
    "version": 3
   },
   "file_extension": ".py",
   "mimetype": "text/x-python",
   "name": "python",
   "nbconvert_exporter": "python",
   "pygments_lexer": "ipython3",
   "version": "3.7.4"
  }
 },
 "nbformat": 4,
 "nbformat_minor": 2
}
