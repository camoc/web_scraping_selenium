{
 "cells": [
  {
   "cell_type": "code",
   "execution_count": 4,
   "metadata": {},
   "outputs": [],
   "source": [
    "import time\n",
    "from selenium import webdriver\n",
    "from selenium.webdriver.common.keys import Keys\n",
    "from selenium.webdriver.chrome.service import Service\n",
    "\n",
    "chrome_driver_path='C:\\\\Users\\\\camooc\\\\Downloads\\\\chromedriver_win32\\\\chromedriver'\n",
    "driver = webdriver.Chrome(chrome_driver_path)  # Optional argument, if not specified will search path.\n",
    "driver.get('https://www.pluralsight.com/');\n",
    "#time.sleep(5) # Let the user actually see something!\n",
    "search_box = driver.find_element_by_name('q')\n",
    "search_box.clear()\n",
    "search_box.send_keys('certification microsoft azure')\n",
    "#search_box.submit()\n",
    "search_box.send_keys(Keys.RETURN)\n",
    "time.sleep(10) # Let the user actually see something!\n",
    "driver.quit()"
   ]
  },
  {
   "cell_type": "code",
   "execution_count": 39,
   "metadata": {},
   "outputs": [],
   "source": [
    "service = Service(chrome_driver_path)\n",
    "service.start()\n",
    "driver = webdriver.Remote(service.service_url)\n",
    "driver.get('https://www.python.org/');\n",
    "search_box = driver.find_element_by_id('id-search-field')\n",
    "search_box.clear()\n",
    "search_box.send_keys('lists')\n",
    "#search_box.submit()\n",
    "search_box.send_keys(Keys.RETURN)\n",
    "time.sleep(10) # Let the user actually see something!\n",
    "driver.quit()"
   ]
  },
  {
   "cell_type": "code",
   "execution_count": 40,
   "metadata": {},
   "outputs": [],
   "source": []
  },
  {
   "cell_type": "code",
   "execution_count": 41,
   "metadata": {},
   "outputs": [],
   "source": [
    "service = Service(chrome_driver_path)\n",
    "service.start()\n",
    "driver = webdriver.Remote(service.service_url)\n",
    "\n",
    "driver.get('https://www.pluralsight.com/')\n",
    "driver.implicitly_wait(10)\n",
    "\n",
    "search_box = driver.find_element_by_name('q')\n",
    "search_box.clear()\n",
    "#search_box.send_keys('Java')\n",
    "search_box.send_keys('Java' + Keys.RETURN)\n",
    "\n",
    "time.sleep(10)\n",
    "\n",
    "#search_link = driver.find_element_by_link_text('Java')\n",
    "search_box = driver.find_element_by_partial_link_text('Java')\n",
    "if search_box.is_displayed():\n",
    "    search_box.click()\n",
    "    \n",
    "time.sleep(10) # Let the user actually see something!\n",
    "driver.quit()"
   ]
  },
  {
   "cell_type": "code",
   "execution_count": 43,
   "metadata": {},
   "outputs": [],
   "source": [
    "service = Service(chrome_driver_path)\n",
    "service.start()\n",
    "driver = webdriver.Remote(service.service_url)\n",
    "\n",
    "driver.get('https://www.pluralsight.com/')\n",
    "driver.implicitly_wait(10)\n",
    "\n",
    "search_box = driver.find_element_by_css_selector('input.header_search--input')\n",
    "search_box.clear()\n",
    "search_box.send_keys('Java' + Keys.RETURN)\n",
    "time.sleep(10)\n",
    "driver.quit()"
   ]
  },
  {
   "cell_type": "code",
   "execution_count": 44,
   "metadata": {},
   "outputs": [],
   "source": [
    "service = Service(chrome_driver_path)\n",
    "service.start()\n",
    "driver = webdriver.Remote(service.service_url)\n",
    "\n",
    "driver.get('https://www.pluralsight.com/')\n",
    "driver.implicitly_wait(10)\n",
    "\n",
    "search_box = driver.find_element_by_xpath(\"//input[@name='q']\")\n",
    "search_box.clear()\n",
    "search_box.send_keys('Java' + Keys.RETURN)\n",
    "time.sleep(10)\n",
    "driver.quit()"
   ]
  },
  {
   "cell_type": "code",
   "execution_count": 47,
   "metadata": {},
   "outputs": [],
   "source": [
    "### Dealing with forms and Dropdown menu"
   ]
  },
  {
   "cell_type": "code",
   "execution_count": 49,
   "metadata": {},
   "outputs": [],
   "source": [
    "from selenium import webdriver\n",
    "from selenium.webdriver.common.keys import Keys\n",
    "from selenium.webdriver.chrome.options import Options\n",
    "from selenium.webdriver.support.ui import WebDriverWait\n",
    "from selenium.webdriver.support import expected_conditions as EC\n",
    "from selenium.webdriver.common.by import By\n",
    "import time"
   ]
  },
  {
   "cell_type": "code",
   "execution_count": 51,
   "metadata": {},
   "outputs": [],
   "source": [
    "chromeOptions = Options()\n",
    "chromeOptions.add_argument(\"--kiosk\")"
   ]
  },
  {
   "cell_type": "code",
   "execution_count": 66,
   "metadata": {},
   "outputs": [],
   "source": [
    "#driver = webdriver.chrome(options=chromeOptions)\n",
    "service = Service(chrome_driver_path)\n",
    "service.start()\n",
    "driver = webdriver.Remote(service.service_url)\n",
    "driver.get(\"https://www.pluralsight.com/buy?requestId=e293ab17-ed6d-4758-ad51-579699643698&priceOptionId=761930fa-2cb0-454b-8ad7-f3c8155678cf&legacyTrackingId=IND-M-PLUS-FT&time=1577105485826&planId=Individual+plan&quantity=1&analyticsStep=1\")\n",
    "\n",
    "# web driver wait\n",
    "element = WebDriverWait(driver, 10).until(EC.element_to_be_clickable((By.NAME,\"firstName\")))\n",
    "\n",
    "# first name \n",
    "first_name = driver.find_element_by_name(\"firstName\")\n",
    "first_name.clear()\n",
    "first_name.send_keys(\"Moctar\")\n",
    "\n",
    "\n",
    "# last name \n",
    "last_name = driver.find_element_by_name(\"lastName\")\n",
    "last_name.clear()\n",
    "last_name.send_keys(\"Camara\")\n",
    "\n",
    "\n",
    "# email \n",
    "emails = driver.find_elements_by_name(\"email\")\n",
    "for email in emails:\n",
    "    email.clear()\n",
    "    email.send_keys(\"mo.ca.123@gmail.com\")\n",
    "\n",
    "# confirmation email \n",
    "#conf_email = driver.find_element_by_name(\"email\")\n",
    "#conf_email.clear()\n",
    "#conf_email.send_keys(\"mo.ca.123@gmail.com\")\n",
    "\n",
    "country_element = driver.find_element_by_xpath(\"//select[@data-test='country']\")\n",
    "all_options = country_element.find_elements_by_tag_name(\"option\")\n",
    "\n",
    "for option in all_options:\n",
    "    if option.get_attribute(\"value\") == \"US\":\n",
    "          option.click()\n",
    "\n",
    "# checkbixes\n",
    "time.sleep(2)\n",
    "checkbox = driver.find_element_by_xpath(\"//div[@role='checkbox']\")\n",
    "checkbox.click()\n",
    "\n",
    "# submit button\n",
    "submit_ele = driver.find_element_by_xpath(\"//button[@data-test='submitButton']\")\n",
    "time.sleep(2)\n",
    "submit_ele.click()"
   ]
  },
  {
   "cell_type": "code",
   "execution_count": 68,
   "metadata": {},
   "outputs": [
    {
     "name": "stderr",
     "output_type": "stream",
     "text": [
      "C:\\ProgramData\\Anaconda3\\lib\\site-packages\\ipykernel_launcher.py:2: DeprecationWarning: use driver.switch_to.frame instead\n",
      "  \n",
      "C:\\ProgramData\\Anaconda3\\lib\\site-packages\\ipykernel_launcher.py:5: DeprecationWarning: use driver.switch_to.default_content instead\n",
      "  \"\"\"\n"
     ]
    }
   ],
   "source": [
    "# switch to iframe ny name\n",
    "driver.switch_to_frame(\"destination_publishing_iframe_pluralsight_0_name\")\n",
    "\n",
    "# switch to parent frame\n",
    "driver.switch_to_default_content()"
   ]
  },
  {
   "cell_type": "code",
   "execution_count": null,
   "metadata": {},
   "outputs": [],
   "source": [
    "popup = driver.switch_to_alert()"
   ]
  }
 ],
 "metadata": {
  "kernelspec": {
   "display_name": "Python 3",
   "language": "python",
   "name": "python3"
  },
  "language_info": {
   "codemirror_mode": {
    "name": "ipython",
    "version": 3
   },
   "file_extension": ".py",
   "mimetype": "text/x-python",
   "name": "python",
   "nbconvert_exporter": "python",
   "pygments_lexer": "ipython3",
   "version": "3.7.4"
  }
 },
 "nbformat": 4,
 "nbformat_minor": 2
}
